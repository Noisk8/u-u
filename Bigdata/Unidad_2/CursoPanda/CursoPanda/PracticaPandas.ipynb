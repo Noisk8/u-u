{
 "cells": [
  {
   "cell_type": "code",
   "execution_count": 2,
   "id": "8a3ea1af",
   "metadata": {},
   "outputs": [],
   "source": [
    "import pandas as pd"
   ]
  },
  {
   "cell_type": "code",
   "execution_count": 3,
   "id": "8f478b11",
   "metadata": {},
   "outputs": [],
   "source": [
    "colors=pd.Series(['Amarillo','Azul','Rojo'])"
   ]
  },
  {
   "cell_type": "code",
   "execution_count": 4,
   "id": "a18bac8f",
   "metadata": {},
   "outputs": [
    {
     "name": "stdout",
     "output_type": "stream",
     "text": [
      "0    Amarillo\n",
      "1        Azul\n",
      "2        Rojo\n",
      "dtype: object\n"
     ]
    }
   ],
   "source": [
    "print(colors)"
   ]
  },
  {
   "cell_type": "code",
   "execution_count": 5,
   "id": "e74c8fbc",
   "metadata": {
    "scrolled": true
   },
   "outputs": [],
   "source": [
    "serie=pd.Series([ 11,2,3,4,5,6,7,8,9,65,34])"
   ]
  },
  {
   "cell_type": "markdown",
   "id": "49439863",
   "metadata": {},
   "source": [
    "# Series"
   ]
  },
  {
   "cell_type": "code",
   "execution_count": 6,
   "id": "a63f01fc",
   "metadata": {},
   "outputs": [
    {
     "name": "stdout",
     "output_type": "stream",
     "text": [
      "0     11\n",
      "1      2\n",
      "2      3\n",
      "3      4\n",
      "4      5\n",
      "5      6\n",
      "6      7\n",
      "7      8\n",
      "8      9\n",
      "9     65\n",
      "10    34\n",
      "dtype: int64\n"
     ]
    }
   ],
   "source": [
    "print(serie)"
   ]
  },
  {
   "cell_type": "code",
   "execution_count": null,
   "id": "b49128c5-f185-4693-aa6f-f15d80d3a1bd",
   "metadata": {},
   "outputs": [],
   "source": []
  },
  {
   "cell_type": "markdown",
   "id": "28fc62ea",
   "metadata": {},
   "source": [
    "# Diccionarios"
   ]
  },
  {
   "cell_type": "code",
   "execution_count": 7,
   "id": "96f09df8",
   "metadata": {},
   "outputs": [],
   "source": [
    "materias=pd.Series({'Matematicas':70,'Física':79,'Base de Datos':76, 'Química':80})"
   ]
  },
  {
   "cell_type": "code",
   "execution_count": 8,
   "id": "b94965cc",
   "metadata": {},
   "outputs": [
    {
     "name": "stdout",
     "output_type": "stream",
     "text": [
      "Matematicas      70\n",
      "Física           79\n",
      "Base de Datos    76\n",
      "Química          80\n",
      "dtype: int64\n"
     ]
    }
   ],
   "source": [
    "print(materias)"
   ]
  },
  {
   "cell_type": "markdown",
   "id": "0c16a814",
   "metadata": {},
   "source": [
    "# Propiedades de una serie"
   ]
  },
  {
   "cell_type": "code",
   "execution_count": 9,
   "id": "2d77e036",
   "metadata": {},
   "outputs": [
    {
     "data": {
      "text/plain": [
       "11"
      ]
     },
     "execution_count": 9,
     "metadata": {},
     "output_type": "execute_result"
    }
   ],
   "source": [
    "serie.size"
   ]
  },
  {
   "cell_type": "code",
   "execution_count": 10,
   "id": "2b3b1bb0",
   "metadata": {},
   "outputs": [
    {
     "data": {
      "text/plain": [
       "4"
      ]
     },
     "execution_count": 10,
     "metadata": {},
     "output_type": "execute_result"
    }
   ],
   "source": [
    "materias.size"
   ]
  },
  {
   "cell_type": "code",
   "execution_count": 11,
   "id": "6f590e28",
   "metadata": {},
   "outputs": [
    {
     "data": {
      "text/plain": [
       "RangeIndex(start=0, stop=11, step=1)"
      ]
     },
     "execution_count": 11,
     "metadata": {},
     "output_type": "execute_result"
    }
   ],
   "source": [
    "serie.index"
   ]
  },
  {
   "cell_type": "code",
   "execution_count": 12,
   "id": "d6295fe5",
   "metadata": {},
   "outputs": [
    {
     "data": {
      "text/plain": [
       "Index(['Matematicas', 'Física', 'Base de Datos', 'Química'], dtype='object')"
      ]
     },
     "execution_count": 12,
     "metadata": {},
     "output_type": "execute_result"
    }
   ],
   "source": [
    "materias.index"
   ]
  },
  {
   "cell_type": "code",
   "execution_count": 13,
   "id": "b5fe92e9",
   "metadata": {},
   "outputs": [
    {
     "data": {
      "text/plain": [
       "dtype('int64')"
      ]
     },
     "execution_count": 13,
     "metadata": {},
     "output_type": "execute_result"
    }
   ],
   "source": [
    "serie.dtype"
   ]
  },
  {
   "cell_type": "code",
   "execution_count": 14,
   "id": "854c82c2",
   "metadata": {},
   "outputs": [
    {
     "data": {
      "text/plain": [
       "dtype('int64')"
      ]
     },
     "execution_count": 14,
     "metadata": {},
     "output_type": "execute_result"
    }
   ],
   "source": [
    "materias.dtype"
   ]
  },
  {
   "cell_type": "markdown",
   "id": "2973a557",
   "metadata": {},
   "source": [
    "# Acceso a una Serie"
   ]
  },
  {
   "cell_type": "code",
   "execution_count": 15,
   "id": "84701e5c",
   "metadata": {},
   "outputs": [],
   "source": [
    "colores=pd.Series([ 'rojo','amarillo','azul','verde','blanco','negro'])"
   ]
  },
  {
   "cell_type": "code",
   "execution_count": 16,
   "id": "ba085550",
   "metadata": {},
   "outputs": [
    {
     "data": {
      "text/plain": [
       "1    amarillo\n",
       "dtype: object"
      ]
     },
     "execution_count": 16,
     "metadata": {},
     "output_type": "execute_result"
    }
   ],
   "source": [
    "colores[1:2]"
   ]
  },
  {
   "cell_type": "code",
   "execution_count": 18,
   "id": "7b90152c",
   "metadata": {},
   "outputs": [
    {
     "data": {
      "text/plain": [
       "0        rojo\n",
       "1    amarillo\n",
       "2        azul\n",
       "3       verde\n",
       "dtype: object"
      ]
     },
     "execution_count": 18,
     "metadata": {},
     "output_type": "execute_result"
    }
   ],
   "source": [
    "colores[0:4]"
   ]
  },
  {
   "cell_type": "code",
   "execution_count": 19,
   "id": "3730700e",
   "metadata": {},
   "outputs": [
    {
     "data": {
      "text/plain": [
       "79"
      ]
     },
     "execution_count": 19,
     "metadata": {},
     "output_type": "execute_result"
    }
   ],
   "source": [
    "materias['Física' ]"
   ]
  },
  {
   "cell_type": "code",
   "execution_count": 20,
   "id": "20ddfe48",
   "metadata": {},
   "outputs": [
    {
     "data": {
      "text/plain": [
       "Física     79\n",
       "Química    80\n",
       "dtype: int64"
      ]
     },
     "execution_count": 20,
     "metadata": {},
     "output_type": "execute_result"
    }
   ],
   "source": [
    "materias[['Física','Química']]"
   ]
  },
  {
   "cell_type": "markdown",
   "id": "7db14b97",
   "metadata": {},
   "source": [
    "# Operaciones"
   ]
  },
  {
   "cell_type": "code",
   "execution_count": 21,
   "id": "e3f56a2e",
   "metadata": {},
   "outputs": [
    {
     "name": "stdout",
     "output_type": "stream",
     "text": [
      "0     11\n",
      "1      2\n",
      "2      3\n",
      "3      4\n",
      "4      5\n",
      "5      6\n",
      "6      7\n",
      "7      8\n",
      "8      9\n",
      "9     65\n",
      "10    34\n",
      "dtype: int64\n"
     ]
    }
   ],
   "source": [
    "print(serie)"
   ]
  },
  {
   "cell_type": "code",
   "execution_count": 22,
   "id": "57a783d3",
   "metadata": {},
   "outputs": [
    {
     "data": {
      "text/plain": [
       "0      22\n",
       "1       4\n",
       "2       6\n",
       "3       8\n",
       "4      10\n",
       "5      12\n",
       "6      14\n",
       "7      16\n",
       "8      18\n",
       "9     130\n",
       "10     68\n",
       "dtype: int64"
      ]
     },
     "execution_count": 22,
     "metadata": {},
     "output_type": "execute_result"
    }
   ],
   "source": [
    "serie*2"
   ]
  },
  {
   "cell_type": "markdown",
   "id": "20ef25bc",
   "metadata": {},
   "source": [
    "# Funciones"
   ]
  },
  {
   "cell_type": "code",
   "execution_count": 23,
   "id": "d00022c9",
   "metadata": {},
   "outputs": [
    {
     "name": "stdout",
     "output_type": "stream",
     "text": [
      "0     11\n",
      "1      2\n",
      "2      3\n",
      "3      4\n",
      "4      5\n",
      "5      6\n",
      "6      7\n",
      "7      8\n",
      "8      9\n",
      "9     65\n",
      "10    34\n",
      "dtype: int64\n"
     ]
    }
   ],
   "source": [
    "print(serie)"
   ]
  },
  {
   "cell_type": "code",
   "execution_count": 24,
   "id": "3826d392",
   "metadata": {},
   "outputs": [
    {
     "data": {
      "text/plain": [
       "154"
      ]
     },
     "execution_count": 24,
     "metadata": {},
     "output_type": "execute_result"
    }
   ],
   "source": [
    "serie.sum()"
   ]
  },
  {
   "cell_type": "code",
   "execution_count": 25,
   "id": "0fbeaca2",
   "metadata": {},
   "outputs": [
    {
     "data": {
      "text/plain": [
       "65"
      ]
     },
     "execution_count": 25,
     "metadata": {},
     "output_type": "execute_result"
    }
   ],
   "source": [
    "serie.max()"
   ]
  },
  {
   "cell_type": "code",
   "execution_count": 26,
   "id": "384b2e44",
   "metadata": {},
   "outputs": [
    {
     "data": {
      "text/plain": [
       "2"
      ]
     },
     "execution_count": 26,
     "metadata": {},
     "output_type": "execute_result"
    }
   ],
   "source": [
    "serie.min()"
   ]
  },
  {
   "cell_type": "code",
   "execution_count": 27,
   "id": "045994d4",
   "metadata": {},
   "outputs": [
    {
     "data": {
      "text/plain": [
       "19.05255888325765"
      ]
     },
     "execution_count": 27,
     "metadata": {},
     "output_type": "execute_result"
    }
   ],
   "source": [
    "serie.std()"
   ]
  },
  {
   "cell_type": "code",
   "execution_count": 28,
   "id": "95561209",
   "metadata": {},
   "outputs": [
    {
     "data": {
      "text/plain": [
       "count    11.000000\n",
       "mean     14.000000\n",
       "std      19.052559\n",
       "min       2.000000\n",
       "25%       4.500000\n",
       "50%       7.000000\n",
       "75%      10.000000\n",
       "max      65.000000\n",
       "dtype: float64"
      ]
     },
     "execution_count": 28,
     "metadata": {},
     "output_type": "execute_result"
    }
   ],
   "source": [
    "serie.describe()"
   ]
  },
  {
   "cell_type": "code",
   "execution_count": 29,
   "id": "ca4e4fc6",
   "metadata": {},
   "outputs": [
    {
     "name": "stdout",
     "output_type": "stream",
     "text": [
      "Física           79\n",
      "Base de Datos    76\n",
      "Química          80\n",
      "dtype: int64\n"
     ]
    }
   ],
   "source": [
    "print(materias[materias>75])"
   ]
  },
  {
   "cell_type": "markdown",
   "id": "e40dbd7c",
   "metadata": {},
   "source": [
    "# Comentario pa ver cómo es la vuelta"
   ]
  },
  {
   "cell_type": "code",
   "execution_count": 30,
   "id": "3c961c65",
   "metadata": {},
   "outputs": [
    {
     "name": "stdout",
     "output_type": "stream",
     "text": [
      "Matematicas      70\n",
      "Base de Datos    76\n",
      "Física           79\n",
      "Química          80\n",
      "dtype: int64\n"
     ]
    }
   ],
   "source": [
    "print(materias.sort_values())"
   ]
  },
  {
   "cell_type": "code",
   "execution_count": 31,
   "id": "65132282",
   "metadata": {},
   "outputs": [
    {
     "name": "stdout",
     "output_type": "stream",
     "text": [
      "Base de Datos    76\n",
      "Física           79\n",
      "Matematicas      70\n",
      "Química          80\n",
      "dtype: int64\n"
     ]
    }
   ],
   "source": [
    "print(materias.sort_index(ascending=True))"
   ]
  },
  {
   "cell_type": "markdown",
   "id": "7de9e766",
   "metadata": {},
   "source": [
    "# DataFrame"
   ]
  },
  {
   "cell_type": "code",
   "execution_count": 32,
   "id": "fd22cb3a",
   "metadata": {},
   "outputs": [],
   "source": [
    "data={'NOMBRE':['Juan','Maria','Isaac','Francisco'],\n",
    "     'CARRERA':['Sociales','Informatica','Derecho','Deportes'],\n",
    "     'CORREO':['juan@gmail.com','maria@gmail.com','isaac@gmail.com','francisco@gmail.com']}"
   ]
  },
  {
   "cell_type": "code",
   "execution_count": 33,
   "id": "485d65c5",
   "metadata": {},
   "outputs": [],
   "source": [
    "estudiantes=pd.DataFrame(data)"
   ]
  },
  {
   "cell_type": "code",
   "execution_count": 34,
   "id": "803bcfef",
   "metadata": {},
   "outputs": [
    {
     "name": "stdout",
     "output_type": "stream",
     "text": [
      "      NOMBRE      CARRERA               CORREO\n",
      "0       Juan     Sociales       juan@gmail.com\n",
      "1      Maria  Informatica      maria@gmail.com\n",
      "2      Isaac      Derecho      isaac@gmail.com\n",
      "3  Francisco     Deportes  francisco@gmail.com\n"
     ]
    }
   ],
   "source": [
    "print(estudiantes)"
   ]
  },
  {
   "cell_type": "code",
   "execution_count": 35,
   "id": "8ab859f7",
   "metadata": {},
   "outputs": [],
   "source": [
    "df=pd.DataFrame([['Maria',27],['David',34],['Jessica',42],['Enrique',15]],\n",
    "               columns=['NOMBRE','EDAD'])"
   ]
  },
  {
   "cell_type": "code",
   "execution_count": null,
   "id": "62c33a74",
   "metadata": {},
   "outputs": [],
   "source": []
  },
  {
   "cell_type": "code",
   "execution_count": 36,
   "id": "f09f19e1",
   "metadata": {},
   "outputs": [
    {
     "name": "stdout",
     "output_type": "stream",
     "text": [
      "    NOMBRE  EDAD\n",
      "0    Maria    27\n",
      "1    David    34\n",
      "2  Jessica    42\n",
      "3  Enrique    15\n"
     ]
    }
   ],
   "source": [
    "print(df)"
   ]
  },
  {
   "cell_type": "code",
   "execution_count": 46,
   "id": "af1e5179",
   "metadata": {},
   "outputs": [],
   "source": [
    "import numpy as np"
   ]
  },
  {
   "cell_type": "code",
   "execution_count": null,
   "id": "1ec6c3fb",
   "metadata": {},
   "outputs": [],
   "source": []
  }
 ],
 "metadata": {
  "kernelspec": {
   "display_name": "Python 3",
   "language": "python",
   "name": "python3"
  },
  "language_info": {
   "codemirror_mode": {
    "name": "ipython",
    "version": 3
   },
   "file_extension": ".py",
   "mimetype": "text/x-python",
   "name": "python",
   "nbconvert_exporter": "python",
   "pygments_lexer": "ipython3",
   "version": "3.12.6"
  }
 },
 "nbformat": 4,
 "nbformat_minor": 5
}
