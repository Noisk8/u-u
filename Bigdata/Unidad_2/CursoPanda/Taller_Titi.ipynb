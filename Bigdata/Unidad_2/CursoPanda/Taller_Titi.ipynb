{
 "cells": [
  {
   "cell_type": "markdown",
   "metadata": {},
   "source": [
    "# Taller Titi"
   ]
  },
  {
   "cell_type": "code",
   "execution_count": 1,
   "metadata": {},
   "outputs": [],
   "source": [
    "import pandas as pd"
   ]
  },
  {
   "cell_type": "code",
   "execution_count": 2,
   "metadata": {},
   "outputs": [],
   "source": [
    "df = pd.read_csv('TallerTiti.csv',sep=';')"
   ]
  },
  {
   "cell_type": "code",
   "execution_count": 3,
   "metadata": {},
   "outputs": [
    {
     "data": {
      "text/html": [
       "<div>\n",
       "<style scoped>\n",
       "    .dataframe tbody tr th:only-of-type {\n",
       "        vertical-align: middle;\n",
       "    }\n",
       "\n",
       "    .dataframe tbody tr th {\n",
       "        vertical-align: top;\n",
       "    }\n",
       "\n",
       "    .dataframe thead th {\n",
       "        text-align: right;\n",
       "    }\n",
       "</style>\n",
       "<table border=\"1\" class=\"dataframe\">\n",
       "  <thead>\n",
       "    <tr style=\"text-align: right;\">\n",
       "      <th></th>\n",
       "      <th>Fecha de la Venta</th>\n",
       "      <th>Nombre</th>\n",
       "      <th>Área</th>\n",
       "      <th>Producto</th>\n",
       "      <th>Cantidad Vendida</th>\n",
       "      <th>Precio Unitario</th>\n",
       "      <th>Valor Total de la Venta</th>\n",
       "      <th>Mes</th>\n",
       "      <th>Año</th>\n",
       "    </tr>\n",
       "  </thead>\n",
       "  <tbody>\n",
       "    <tr>\n",
       "      <th>0</th>\n",
       "      <td>01/01/2024</td>\n",
       "      <td>Eunice Jaramillo</td>\n",
       "      <td>Ventas</td>\n",
       "      <td>Lote 1</td>\n",
       "      <td>10</td>\n",
       "      <td>$10.00</td>\n",
       "      <td>$100.00</td>\n",
       "      <td>Enero</td>\n",
       "      <td>2024</td>\n",
       "    </tr>\n",
       "    <tr>\n",
       "      <th>1</th>\n",
       "      <td>05/01/2024</td>\n",
       "      <td>Juan Jaramilo</td>\n",
       "      <td>Marketing</td>\n",
       "      <td>Lote 2</td>\n",
       "      <td>5</td>\n",
       "      <td>$15.00</td>\n",
       "      <td>$75.00</td>\n",
       "      <td>Enero</td>\n",
       "      <td>2024</td>\n",
       "    </tr>\n",
       "    <tr>\n",
       "      <th>2</th>\n",
       "      <td>05/01/2024</td>\n",
       "      <td>Laura Zapata</td>\n",
       "      <td>Marketing</td>\n",
       "      <td>Lote 2</td>\n",
       "      <td>4</td>\n",
       "      <td>$20.00</td>\n",
       "      <td>$80.00</td>\n",
       "      <td>Enero</td>\n",
       "      <td>2024</td>\n",
       "    </tr>\n",
       "    <tr>\n",
       "      <th>3</th>\n",
       "      <td>06/01/2024</td>\n",
       "      <td>Julia Perez</td>\n",
       "      <td>Ventas</td>\n",
       "      <td>Lote 3</td>\n",
       "      <td>40</td>\n",
       "      <td>$10.00</td>\n",
       "      <td>$400.00</td>\n",
       "      <td>Enero</td>\n",
       "      <td>2024</td>\n",
       "    </tr>\n",
       "  </tbody>\n",
       "</table>\n",
       "</div>"
      ],
      "text/plain": [
       "  Fecha de la Venta            Nombre       Área Producto  Cantidad Vendida  \\\n",
       "0        01/01/2024  Eunice Jaramillo     Ventas   Lote 1                10   \n",
       "1        05/01/2024     Juan Jaramilo  Marketing   Lote 2                 5   \n",
       "2        05/01/2024      Laura Zapata  Marketing   Lote 2                 4   \n",
       "3        06/01/2024       Julia Perez     Ventas   Lote 3                40   \n",
       "\n",
       "  Precio Unitario Valor Total de la Venta    Mes   Año  \n",
       "0          $10.00                 $100.00  Enero  2024  \n",
       "1          $15.00                  $75.00  Enero  2024  \n",
       "2          $20.00                  $80.00  Enero  2024  \n",
       "3          $10.00                 $400.00  Enero  2024  "
      ]
     },
     "execution_count": 3,
     "metadata": {},
     "output_type": "execute_result"
    }
   ],
   "source": [
    "df"
   ]
  },
  {
   "cell_type": "code",
   "execution_count": 4,
   "metadata": {},
   "outputs": [
    {
     "name": "stdout",
     "output_type": "stream",
     "text": [
      "  Fecha de la Venta            Nombre       Área Producto  Cantidad Vendida  \\\n",
      "0        01/01/2024  Eunice Jaramillo     Ventas   Lote 1                10   \n",
      "1        05/01/2024     Juan Jaramilo  Marketing   Lote 2                 5   \n",
      "2        05/01/2024      Laura Zapata  Marketing   Lote 2                 4   \n",
      "3        06/01/2024       Julia Perez     Ventas   Lote 3                40   \n",
      "\n",
      "  Precio Unitario Valor Total de la Venta    Mes   Año  \n",
      "0          $10.00                 $100.00  Enero  2024  \n",
      "1          $15.00                  $75.00  Enero  2024  \n",
      "2          $20.00                  $80.00  Enero  2024  \n",
      "3          $10.00                 $400.00  Enero  2024  \n"
     ]
    }
   ],
   "source": [
    "print(df.head())"
   ]
  },
  {
   "cell_type": "markdown",
   "metadata": {},
   "source": [
    "### Eliminar filas con valores nulos"
   ]
  },
  {
   "cell_type": "code",
   "execution_count": 5,
   "metadata": {},
   "outputs": [],
   "source": [
    "df.dropna(inplace=True)"
   ]
  },
  {
   "cell_type": "code",
   "execution_count": 6,
   "metadata": {},
   "outputs": [
    {
     "data": {
      "text/html": [
       "<div>\n",
       "<style scoped>\n",
       "    .dataframe tbody tr th:only-of-type {\n",
       "        vertical-align: middle;\n",
       "    }\n",
       "\n",
       "    .dataframe tbody tr th {\n",
       "        vertical-align: top;\n",
       "    }\n",
       "\n",
       "    .dataframe thead th {\n",
       "        text-align: right;\n",
       "    }\n",
       "</style>\n",
       "<table border=\"1\" class=\"dataframe\">\n",
       "  <thead>\n",
       "    <tr style=\"text-align: right;\">\n",
       "      <th></th>\n",
       "      <th>Fecha de la Venta</th>\n",
       "      <th>Nombre</th>\n",
       "      <th>Área</th>\n",
       "      <th>Producto</th>\n",
       "      <th>Cantidad Vendida</th>\n",
       "      <th>Precio Unitario</th>\n",
       "      <th>Valor Total de la Venta</th>\n",
       "      <th>Mes</th>\n",
       "      <th>Año</th>\n",
       "    </tr>\n",
       "  </thead>\n",
       "  <tbody>\n",
       "    <tr>\n",
       "      <th>0</th>\n",
       "      <td>01/01/2024</td>\n",
       "      <td>Eunice Jaramillo</td>\n",
       "      <td>Ventas</td>\n",
       "      <td>Lote 1</td>\n",
       "      <td>10</td>\n",
       "      <td>$10.00</td>\n",
       "      <td>$100.00</td>\n",
       "      <td>Enero</td>\n",
       "      <td>2024</td>\n",
       "    </tr>\n",
       "    <tr>\n",
       "      <th>1</th>\n",
       "      <td>05/01/2024</td>\n",
       "      <td>Juan Jaramilo</td>\n",
       "      <td>Marketing</td>\n",
       "      <td>Lote 2</td>\n",
       "      <td>5</td>\n",
       "      <td>$15.00</td>\n",
       "      <td>$75.00</td>\n",
       "      <td>Enero</td>\n",
       "      <td>2024</td>\n",
       "    </tr>\n",
       "    <tr>\n",
       "      <th>2</th>\n",
       "      <td>05/01/2024</td>\n",
       "      <td>Laura Zapata</td>\n",
       "      <td>Marketing</td>\n",
       "      <td>Lote 2</td>\n",
       "      <td>4</td>\n",
       "      <td>$20.00</td>\n",
       "      <td>$80.00</td>\n",
       "      <td>Enero</td>\n",
       "      <td>2024</td>\n",
       "    </tr>\n",
       "    <tr>\n",
       "      <th>3</th>\n",
       "      <td>06/01/2024</td>\n",
       "      <td>Julia Perez</td>\n",
       "      <td>Ventas</td>\n",
       "      <td>Lote 3</td>\n",
       "      <td>40</td>\n",
       "      <td>$10.00</td>\n",
       "      <td>$400.00</td>\n",
       "      <td>Enero</td>\n",
       "      <td>2024</td>\n",
       "    </tr>\n",
       "  </tbody>\n",
       "</table>\n",
       "</div>"
      ],
      "text/plain": [
       "  Fecha de la Venta            Nombre       Área Producto  Cantidad Vendida  \\\n",
       "0        01/01/2024  Eunice Jaramillo     Ventas   Lote 1                10   \n",
       "1        05/01/2024     Juan Jaramilo  Marketing   Lote 2                 5   \n",
       "2        05/01/2024      Laura Zapata  Marketing   Lote 2                 4   \n",
       "3        06/01/2024       Julia Perez     Ventas   Lote 3                40   \n",
       "\n",
       "  Precio Unitario Valor Total de la Venta    Mes   Año  \n",
       "0          $10.00                 $100.00  Enero  2024  \n",
       "1          $15.00                  $75.00  Enero  2024  \n",
       "2          $20.00                  $80.00  Enero  2024  \n",
       "3          $10.00                 $400.00  Enero  2024  "
      ]
     },
     "execution_count": 6,
     "metadata": {},
     "output_type": "execute_result"
    }
   ],
   "source": [
    "df"
   ]
  },
  {
   "cell_type": "code",
   "execution_count": 7,
   "metadata": {},
   "outputs": [],
   "source": [
    "df['Cantidad Vendida']=pd.to_numeric(df['Cantidad Vendida'], errors='coerce')"
   ]
  },
  {
   "cell_type": "code",
   "execution_count": 8,
   "metadata": {},
   "outputs": [],
   "source": [
    "df['Precio Unitario']=pd.to_numeric(df['Precio Unitario'], errors='coerce')"
   ]
  },
  {
   "cell_type": "code",
   "execution_count": 9,
   "metadata": {},
   "outputs": [],
   "source": [
    "df['Valor Total de la Venta']=pd.to_numeric(df['Valor Total de la Venta'], errors='coerce')"
   ]
  },
  {
   "cell_type": "code",
   "execution_count": 10,
   "metadata": {},
   "outputs": [],
   "source": [
    "import numpy as np"
   ]
  },
  {
   "cell_type": "code",
   "execution_count": 12,
   "metadata": {},
   "outputs": [],
   "source": [
    "ventas = np.sum(df['Cantidad Vendida'])\n"
   ]
  },
  {
   "cell_type": "code",
   "execution_count": 13,
   "metadata": {},
   "outputs": [
    {
     "name": "stdout",
     "output_type": "stream",
     "text": [
      "Total de ventas: 59\n"
     ]
    }
   ],
   "source": [
    "print(f'Total de ventas: {ventas}')"
   ]
  },
  {
   "cell_type": "code",
   "execution_count": 14,
   "metadata": {},
   "outputs": [],
   "source": [
    "import matplotlib.pyplot as plt"
   ]
  },
  {
   "cell_type": "code",
   "execution_count": 15,
   "metadata": {},
   "outputs": [],
   "source": [
    "estadisticas = df['Cantidad Vendida'].describe()"
   ]
  },
  {
   "cell_type": "code",
   "execution_count": 16,
   "metadata": {},
   "outputs": [
    {
     "name": "stdout",
     "output_type": "stream",
     "text": [
      "count     4.000000\n",
      "mean     14.750000\n",
      "std      17.036725\n",
      "min       4.000000\n",
      "25%       4.750000\n",
      "50%       7.500000\n",
      "75%      17.500000\n",
      "max      40.000000\n",
      "Name: Cantidad Vendida, dtype: float64\n"
     ]
    }
   ],
   "source": [
    "print(estadisticas)"
   ]
  },
  {
   "cell_type": "code",
   "execution_count": 17,
   "metadata": {},
   "outputs": [
    {
     "data": {
      "image/png": "[encoded data removed]",
      "text/plain": [
       "<Figure size 640x480 with 1 Axes>"
      ]
     },
     "metadata": {},
     "output_type": "display_data"
    }
   ],
   "source": [
    "df.groupby('Nombre')['Cantidad Vendida'].sum().plot(kind='bar')\n",
    "plt.title('Ventas Totales  De la PLAZA')\n",
    "plt.xlabel('Producto')\n",
    "plt.ylabel('Valor Total de la Venta')\n",
    "plt.show()"
   ]
  }
 ],
 "metadata": {
  "kernelspec": {
   "display_name": "Python 3",
   "language": "python",
   "name": "python3"
  },
  "language_info": {
   "codemirror_mode": {
    "name": "ipython",
    "version": 3
   },
   "file_extension": ".py",
   "mimetype": "text/x-python",
   "name": "python",
   "nbconvert_exporter": "python",
   "pygments_lexer": "ipython3",
   "version": "3.12.6"
  }
 },
 "nbformat": 4,
 "nbformat_minor": 2
}
