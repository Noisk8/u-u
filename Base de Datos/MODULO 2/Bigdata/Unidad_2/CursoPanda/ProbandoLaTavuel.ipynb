{
 "cells": [
  {
   "cell_type": "code",
   "execution_count": null,
   "id": "654aa7e3-69e5-40ac-bb30-179f42b4c4cd",
   "metadata": {},
   "outputs": [],
   "source": [
    "print(\"Habilidades\")"
   ]
  },
  {
   "cell_type": "code",
   "execution_count": 1,
   "id": "27b31675-10bb-4099-80ac-b490b5a52b9f",
   "metadata": {},
   "outputs": [],
   "source": [
    "import pandas as panda"
   ]
  },
  {
   "cell_type": "code",
   "execution_count": 2,
   "id": "e7cce524-153d-4109-b0f0-da5cd924de9a",
   "metadata": {},
   "outputs": [],
   "source": [
    "habilidades=panda.Series(['Taildwind','Js','Html'])"
   ]
  },
  {
   "cell_type": "markdown",
   "id": "ea85f404-5b2e-40e1-a64c-bea46cdfbf1c",
   "metadata": {},
   "source": [
    "print(habilidades)"
   ]
  },
  {
   "cell_type": "code",
   "execution_count": null,
   "id": "35324c2f-7ea9-4d52-b68b-b36ac8d296f1",
   "metadata": {},
   "outputs": [],
   "source": [
    "# Data Frame"
   ]
  },
  {
   "cell_type": "code",
   "execution_count": null,
   "id": "5e2ab60b-2127-42e5-ade7-ba8fb10476fe",
   "metadata": {},
   "outputs": [],
   "source": [
    "datos={'NOMBRE':['Juan','Maria','Isaac','Francisco'],\n",
    "     'CARRERA':['Sociales','Informatica','Derecho','Deportes'],\n",
    "     'CORREO':['juan@gmail.com','maria@gmail.com','isaac@gmail.com','francisco@gmail.com']}"
   ]
  }
 ],
 "metadata": {
  "kernelspec": {
   "display_name": "Python 3 (ipykernel)",
   "language": "python",
   "name": "python3"
  },
  "language_info": {
   "codemirror_mode": {
    "name": "ipython",
    "version": 3
   },
   "file_extension": ".py",
   "mimetype": "text/x-python",
   "name": "python",
   "nbconvert_exporter": "python",
   "pygments_lexer": "ipython3",
   "version": "3.12.6"
  }
 },
 "nbformat": 4,
 "nbformat_minor": 5
}
