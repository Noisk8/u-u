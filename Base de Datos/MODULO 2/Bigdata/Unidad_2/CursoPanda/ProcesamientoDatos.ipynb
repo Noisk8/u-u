{
 "cells": [
  {
   "cell_type": "code",
   "execution_count": 1,
   "id": "9faa3276",
   "metadata": {},
   "outputs": [],
   "source": [
    "import pandas as pd"
   ]
  },
  {
   "cell_type": "markdown",
   "id": "63af2ab6",
   "metadata": {},
   "source": [
    "separar por ; punto y como es la mejor forma de separar los datos"
   ]
  },
  {
   "cell_type": "code",
   "execution_count": 2,
   "id": "9be56383",
   "metadata": {},
   "outputs": [],
   "source": [
    "df = pd.read_csv('data.csv',sep=';')"
   ]
  },
  {
   "cell_type": "code",
   "execution_count": 3,
   "id": "ca370bc9",
   "metadata": {},
   "outputs": [
    {
     "data": {
      "text/html": [
       "<div>\n",
       "<style scoped>\n",
       "    .dataframe tbody tr th:only-of-type {\n",
       "        vertical-align: middle;\n",
       "    }\n",
       "\n",
       "    .dataframe tbody tr th {\n",
       "        vertical-align: top;\n",
       "    }\n",
       "\n",
       "    .dataframe thead th {\n",
       "        text-align: right;\n",
       "    }\n",
       "</style>\n",
       "<table border=\"1\" class=\"dataframe\">\n",
       "  <thead>\n",
       "    <tr style=\"text-align: right;\">\n",
       "      <th></th>\n",
       "      <th>fecha</th>\n",
       "      <th>producto</th>\n",
       "      <th>monto</th>\n",
       "      <th>categoria</th>\n",
       "    </tr>\n",
       "  </thead>\n",
       "  <tbody>\n",
       "    <tr>\n",
       "      <th>0</th>\n",
       "      <td>2023-01-01</td>\n",
       "      <td>Producto B</td>\n",
       "      <td>139</td>\n",
       "      <td>Bajo</td>\n",
       "    </tr>\n",
       "    <tr>\n",
       "      <th>1</th>\n",
       "      <td>2023-01-02</td>\n",
       "      <td>Producto B</td>\n",
       "      <td>439</td>\n",
       "      <td>Alto</td>\n",
       "    </tr>\n",
       "    <tr>\n",
       "      <th>2</th>\n",
       "      <td>2023-01-03</td>\n",
       "      <td>Producto A</td>\n",
       "      <td>428</td>\n",
       "      <td>Alto</td>\n",
       "    </tr>\n",
       "    <tr>\n",
       "      <th>3</th>\n",
       "      <td>2023-01-04</td>\n",
       "      <td>Producto B</td>\n",
       "      <td>290</td>\n",
       "      <td>Medio</td>\n",
       "    </tr>\n",
       "    <tr>\n",
       "      <th>4</th>\n",
       "      <td>2023-01-05</td>\n",
       "      <td>Producto A</td>\n",
       "      <td>198</td>\n",
       "      <td>Bajo</td>\n",
       "    </tr>\n",
       "    <tr>\n",
       "      <th>...</th>\n",
       "      <td>...</td>\n",
       "      <td>...</td>\n",
       "      <td>...</td>\n",
       "      <td>...</td>\n",
       "    </tr>\n",
       "    <tr>\n",
       "      <th>995</th>\n",
       "      <td>2025-09-22</td>\n",
       "      <td>Producto A</td>\n",
       "      <td>322</td>\n",
       "      <td>Medio</td>\n",
       "    </tr>\n",
       "    <tr>\n",
       "      <th>996</th>\n",
       "      <td>2025-09-23</td>\n",
       "      <td>Producto A</td>\n",
       "      <td>179</td>\n",
       "      <td>Bajo</td>\n",
       "    </tr>\n",
       "    <tr>\n",
       "      <th>997</th>\n",
       "      <td>2025-09-24</td>\n",
       "      <td>Producto A</td>\n",
       "      <td>449</td>\n",
       "      <td>Alto</td>\n",
       "    </tr>\n",
       "    <tr>\n",
       "      <th>998</th>\n",
       "      <td>2025-09-25</td>\n",
       "      <td>Producto A</td>\n",
       "      <td>352</td>\n",
       "      <td>Medio</td>\n",
       "    </tr>\n",
       "    <tr>\n",
       "      <th>999</th>\n",
       "      <td>2025-09-26</td>\n",
       "      <td>Producto B</td>\n",
       "      <td>140</td>\n",
       "      <td>Bajo</td>\n",
       "    </tr>\n",
       "  </tbody>\n",
       "</table>\n",
       "<p>1000 rows × 4 columns</p>\n",
       "</div>"
      ],
      "text/plain": [
       "          fecha    producto  monto categoria\n",
       "0    2023-01-01  Producto B    139      Bajo\n",
       "1    2023-01-02  Producto B    439      Alto\n",
       "2    2023-01-03  Producto A    428      Alto\n",
       "3    2023-01-04  Producto B    290     Medio\n",
       "4    2023-01-05  Producto A    198      Bajo\n",
       "..          ...         ...    ...       ...\n",
       "995  2025-09-22  Producto A    322     Medio\n",
       "996  2025-09-23  Producto A    179      Bajo\n",
       "997  2025-09-24  Producto A    449      Alto\n",
       "998  2025-09-25  Producto A    352     Medio\n",
       "999  2025-09-26  Producto B    140      Bajo\n",
       "\n",
       "[1000 rows x 4 columns]"
      ]
     },
     "execution_count": 3,
     "metadata": {},
     "output_type": "execute_result"
    }
   ],
   "source": [
    "df"
   ]
  },
  {
   "cell_type": "code",
   "execution_count": 4,
   "id": "8dfc23e9",
   "metadata": {},
   "outputs": [
    {
     "name": "stdout",
     "output_type": "stream",
     "text": [
      "        fecha    producto  monto categoria\n",
      "0  2023-01-01  Producto B    139      Bajo\n",
      "1  2023-01-02  Producto B    439      Alto\n",
      "2  2023-01-03  Producto A    428      Alto\n",
      "3  2023-01-04  Producto B    290     Medio\n",
      "4  2023-01-05  Producto A    198      Bajo\n"
     ]
    }
   ],
   "source": [
    "print(df.head())"
   ]
  },
  {
   "cell_type": "markdown",
   "id": "554bad20",
   "metadata": {},
   "source": [
    "# Eliminar Filas con valores nulos"
   ]
  },
  {
   "cell_type": "code",
   "execution_count": 6,
   "id": "a29b4b06",
   "metadata": {},
   "outputs": [],
   "source": [
    "df.dropna(inplace=True)"
   ]
  },
  {
   "cell_type": "code",
   "execution_count": 7,
   "id": "d41f8447",
   "metadata": {},
   "outputs": [
    {
     "data": {
      "text/html": [
       "<div>\n",
       "<style scoped>\n",
       "    .dataframe tbody tr th:only-of-type {\n",
       "        vertical-align: middle;\n",
       "    }\n",
       "\n",
       "    .dataframe tbody tr th {\n",
       "        vertical-align: top;\n",
       "    }\n",
       "\n",
       "    .dataframe thead th {\n",
       "        text-align: right;\n",
       "    }\n",
       "</style>\n",
       "<table border=\"1\" class=\"dataframe\">\n",
       "  <thead>\n",
       "    <tr style=\"text-align: right;\">\n",
       "      <th></th>\n",
       "      <th>fecha</th>\n",
       "      <th>producto</th>\n",
       "      <th>monto</th>\n",
       "      <th>categoria</th>\n",
       "    </tr>\n",
       "  </thead>\n",
       "  <tbody>\n",
       "    <tr>\n",
       "      <th>0</th>\n",
       "      <td>2023-01-01</td>\n",
       "      <td>Producto B</td>\n",
       "      <td>139</td>\n",
       "      <td>Bajo</td>\n",
       "    </tr>\n",
       "    <tr>\n",
       "      <th>1</th>\n",
       "      <td>2023-01-02</td>\n",
       "      <td>Producto B</td>\n",
       "      <td>439</td>\n",
       "      <td>Alto</td>\n",
       "    </tr>\n",
       "    <tr>\n",
       "      <th>2</th>\n",
       "      <td>2023-01-03</td>\n",
       "      <td>Producto A</td>\n",
       "      <td>428</td>\n",
       "      <td>Alto</td>\n",
       "    </tr>\n",
       "    <tr>\n",
       "      <th>3</th>\n",
       "      <td>2023-01-04</td>\n",
       "      <td>Producto B</td>\n",
       "      <td>290</td>\n",
       "      <td>Medio</td>\n",
       "    </tr>\n",
       "    <tr>\n",
       "      <th>4</th>\n",
       "      <td>2023-01-05</td>\n",
       "      <td>Producto A</td>\n",
       "      <td>198</td>\n",
       "      <td>Bajo</td>\n",
       "    </tr>\n",
       "    <tr>\n",
       "      <th>...</th>\n",
       "      <td>...</td>\n",
       "      <td>...</td>\n",
       "      <td>...</td>\n",
       "      <td>...</td>\n",
       "    </tr>\n",
       "    <tr>\n",
       "      <th>995</th>\n",
       "      <td>2025-09-22</td>\n",
       "      <td>Producto A</td>\n",
       "      <td>322</td>\n",
       "      <td>Medio</td>\n",
       "    </tr>\n",
       "    <tr>\n",
       "      <th>996</th>\n",
       "      <td>2025-09-23</td>\n",
       "      <td>Producto A</td>\n",
       "      <td>179</td>\n",
       "      <td>Bajo</td>\n",
       "    </tr>\n",
       "    <tr>\n",
       "      <th>997</th>\n",
       "      <td>2025-09-24</td>\n",
       "      <td>Producto A</td>\n",
       "      <td>449</td>\n",
       "      <td>Alto</td>\n",
       "    </tr>\n",
       "    <tr>\n",
       "      <th>998</th>\n",
       "      <td>2025-09-25</td>\n",
       "      <td>Producto A</td>\n",
       "      <td>352</td>\n",
       "      <td>Medio</td>\n",
       "    </tr>\n",
       "    <tr>\n",
       "      <th>999</th>\n",
       "      <td>2025-09-26</td>\n",
       "      <td>Producto B</td>\n",
       "      <td>140</td>\n",
       "      <td>Bajo</td>\n",
       "    </tr>\n",
       "  </tbody>\n",
       "</table>\n",
       "<p>1000 rows × 4 columns</p>\n",
       "</div>"
      ],
      "text/plain": [
       "          fecha    producto  monto categoria\n",
       "0    2023-01-01  Producto B    139      Bajo\n",
       "1    2023-01-02  Producto B    439      Alto\n",
       "2    2023-01-03  Producto A    428      Alto\n",
       "3    2023-01-04  Producto B    290     Medio\n",
       "4    2023-01-05  Producto A    198      Bajo\n",
       "..          ...         ...    ...       ...\n",
       "995  2025-09-22  Producto A    322     Medio\n",
       "996  2025-09-23  Producto A    179      Bajo\n",
       "997  2025-09-24  Producto A    449      Alto\n",
       "998  2025-09-25  Producto A    352     Medio\n",
       "999  2025-09-26  Producto B    140      Bajo\n",
       "\n",
       "[1000 rows x 4 columns]"
      ]
     },
     "execution_count": 7,
     "metadata": {},
     "output_type": "execute_result"
    }
   ],
   "source": [
    "df"
   ]
  },
  {
   "cell_type": "markdown",
   "id": "66d9c5d5",
   "metadata": {},
   "source": [
    "# Asegurar que monto sea numérico"
   ]
  },
  {
   "cell_type": "code",
   "execution_count": 8,
   "id": "6834999b",
   "metadata": {},
   "outputs": [],
   "source": [
    "df['monto']=pd.to_numeric(df['monto'], errors='coerce')"
   ]
  },
  {
   "cell_type": "markdown",
   "id": "877d535b",
   "metadata": {},
   "source": [
    "# Libreria Numpy\n",
    "NumPy permite realizar operaciones numéricas eficientes en los datos, \n",
    "como calcular promedios, sumas y estadísticas básicas."
   ]
  },
  {
   "cell_type": "code",
   "execution_count": 9,
   "id": "fadde49e",
   "metadata": {},
   "outputs": [],
   "source": [
    "import numpy as np"
   ]
  },
  {
   "cell_type": "markdown",
   "id": "5ee10d94",
   "metadata": {},
   "source": [
    "# Calcular la suma total de las ventas"
   ]
  },
  {
   "cell_type": "code",
   "execution_count": 10,
   "id": "981c5e21",
   "metadata": {},
   "outputs": [],
   "source": [
    "total_ventas = np.sum(df['monto'])"
   ]
  },
  {
   "cell_type": "code",
   "execution_count": 11,
   "id": "f07e99fe",
   "metadata": {},
   "outputs": [
    {
     "name": "stdout",
     "output_type": "stream",
     "text": [
      "Total de ventas: 299376\n"
     ]
    }
   ],
   "source": [
    "print(f'Total de ventas: {total_ventas}')"
   ]
  },
  {
   "cell_type": "markdown",
   "id": "e7ff9508",
   "metadata": {},
   "source": [
    "# Análisis Estadístico\n",
    "El análisis estadístico permite obtener información relevante sobre los datos, como la media, \n",
    "mediana y desviación estándar."
   ]
  },
  {
   "cell_type": "markdown",
   "id": "f5c605ed",
   "metadata": {},
   "source": [
    "Calcular estadísticas descriptivas"
   ]
  },
  {
   "cell_type": "code",
   "execution_count": 12,
   "id": "14144093",
   "metadata": {},
   "outputs": [],
   "source": [
    "estadisticas = df['monto'].describe()"
   ]
  },
  {
   "cell_type": "code",
   "execution_count": 13,
   "id": "221ba5ec",
   "metadata": {},
   "outputs": [
    {
     "name": "stdout",
     "output_type": "stream",
     "text": [
      "count    1000.000000\n",
      "mean      299.376000\n",
      "std       116.101543\n",
      "min       101.000000\n",
      "25%       198.750000\n",
      "50%       300.000000\n",
      "75%       399.000000\n",
      "max       499.000000\n",
      "Name: monto, dtype: float64\n"
     ]
    }
   ],
   "source": [
    "print(estadisticas)"
   ]
  },
  {
   "cell_type": "markdown",
   "id": "c149d8c4",
   "metadata": {},
   "source": [
    "# Visualización de Resultados\n",
    "La visualización de datos es crucial para comprender patrones y tendencias en los datos. \n",
    "Herramientas como Matplotlib y Seaborn se pueden usar para crear gráficos y visualizaciones efectivas."
   ]
  },
  {
   "cell_type": "code",
   "execution_count": 14,
   "id": "32dfd068",
   "metadata": {},
   "outputs": [],
   "source": [
    "import matplotlib.pyplot as plt"
   ]
  },
  {
   "cell_type": "markdown",
   "id": "b1766ebf",
   "metadata": {},
   "source": [
    "* 'barh': Crea un gráfico de barras horizontal.\n",
    "* 'line': Crea un gráfico de líneas.\n",
    "* 'scatter': Crea un gráfico de dispersión.\n",
    "* 'hist': Crea un histograma.\n",
    "* 'box': Crea un gráfico de caja y bigotes.\n",
    "* 'kde': Crea un gráfico de densidad de kernel.\n",
    "* 'area': Crea un gráfico de área.\n",
    "* 'pie': Crea un gráfico circular."
   ]
  },
  {
   "cell_type": "code",
   "execution_count": 24,
   "id": "19d6ba92",
   "metadata": {},
   "outputs": [
    {
     "data": {
      "image/png": "[encoded data removed]",
      "text/plain": [
       "<Figure size 640x480 with 1 Axes>"
      ]
     },
     "metadata": {},
     "output_type": "display_data"
    }
   ],
   "source": [
    "df.groupby('producto')['monto'].sum().plot(kind='barh')\n",
    "plt.title('Ventas Totales  De la PLAZA')\n",
    "plt.xlabel('Producto')\n",
    "plt.ylabel('Total de Ventas')\n",
    "plt.show()"
   ]
  },
  {
   "cell_type": "code",
   "execution_count": null,
   "id": "6893c113",
   "metadata": {},
   "outputs": [],
   "source": []
  }
 ],
 "metadata": {
  "kernelspec": {
   "display_name": "Python 3",
   "language": "python",
   "name": "python3"
  },
  "language_info": {
   "codemirror_mode": {
    "name": "ipython",
    "version": 3
   },
   "file_extension": ".py",
   "mimetype": "text/x-python",
   "name": "python",
   "nbconvert_exporter": "python",
   "pygments_lexer": "ipython3",
   "version": "3.12.6"
  }
 },
 "nbformat": 4,
 "nbformat_minor": 5
}
